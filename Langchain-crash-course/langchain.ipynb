{
 "cells": [
  {
   "cell_type": "code",
   "execution_count": 20,
   "id": "367238ce-f7e9-45af-a674-e8ba9870bbf3",
   "metadata": {},
   "outputs": [
    {
     "name": "stdout",
     "output_type": "stream",
     "text": [
      "Requirement already satisfied: huggingface_hub in c:\\users\\dell\\appdata\\local\\programs\\python\\python311\\lib\\site-packages (0.23.4)\n",
      "Requirement already satisfied: filelock in c:\\users\\dell\\appdata\\local\\programs\\python\\python311\\lib\\site-packages (from huggingface_hub) (3.15.4)\n",
      "Requirement already satisfied: fsspec>=2023.5.0 in c:\\users\\dell\\appdata\\local\\programs\\python\\python311\\lib\\site-packages (from huggingface_hub) (2024.6.1)\n",
      "Requirement already satisfied: packaging>=20.9 in c:\\users\\dell\\appdata\\local\\programs\\python\\python311\\lib\\site-packages (from huggingface_hub) (23.2)\n",
      "Requirement already satisfied: pyyaml>=5.1 in c:\\users\\dell\\appdata\\local\\programs\\python\\python311\\lib\\site-packages (from huggingface_hub) (6.0.1)\n",
      "Requirement already satisfied: requests in c:\\users\\dell\\appdata\\local\\programs\\python\\python311\\lib\\site-packages (from huggingface_hub) (2.32.3)\n",
      "Requirement already satisfied: tqdm>=4.42.1 in c:\\users\\dell\\appdata\\local\\programs\\python\\python311\\lib\\site-packages (from huggingface_hub) (4.66.4)\n",
      "Requirement already satisfied: typing-extensions>=3.7.4.3 in c:\\users\\dell\\appdata\\local\\programs\\python\\python311\\lib\\site-packages (from huggingface_hub) (4.12.2)\n",
      "Requirement already satisfied: colorama in c:\\users\\dell\\appdata\\local\\programs\\python\\python311\\lib\\site-packages (from tqdm>=4.42.1->huggingface_hub) (0.4.6)\n",
      "Requirement already satisfied: charset-normalizer<4,>=2 in c:\\users\\dell\\appdata\\local\\programs\\python\\python311\\lib\\site-packages (from requests->huggingface_hub) (3.3.2)\n",
      "Requirement already satisfied: idna<4,>=2.5 in c:\\users\\dell\\appdata\\local\\programs\\python\\python311\\lib\\site-packages (from requests->huggingface_hub) (3.7)\n",
      "Requirement already satisfied: urllib3<3,>=1.21.1 in c:\\users\\dell\\appdata\\local\\programs\\python\\python311\\lib\\site-packages (from requests->huggingface_hub) (2.2.2)\n",
      "Requirement already satisfied: certifi>=2017.4.17 in c:\\users\\dell\\appdata\\local\\programs\\python\\python311\\lib\\site-packages (from requests->huggingface_hub) (2024.6.2)\n"
     ]
    },
    {
     "name": "stderr",
     "output_type": "stream",
     "text": [
      "\n",
      "[notice] A new release of pip is available: 24.1.1 -> 24.2\n",
      "[notice] To update, run: python.exe -m pip install --upgrade pip\n"
     ]
    }
   ],
   "source": [
    "!pip install langchain\n",
    "!pip install huggingface_hub"
   ]
  },
  {
   "cell_type": "code",
   "execution_count": 2,
   "id": "bf579788-ea36-4938-bff8-f3c0d4ac73d9",
   "metadata": {},
   "outputs": [
    {
     "name": "stdout",
     "output_type": "stream",
     "text": [
      "Requirement already satisfied: openai in c:\\users\\dell\\appdata\\local\\programs\\python\\python311\\lib\\site-packages (1.37.0)\n",
      "Requirement already satisfied: anyio<5,>=3.5.0 in c:\\users\\dell\\appdata\\local\\programs\\python\\python311\\lib\\site-packages (from openai) (4.4.0)\n",
      "Requirement already satisfied: distro<2,>=1.7.0 in c:\\users\\dell\\appdata\\local\\programs\\python\\python311\\lib\\site-packages (from openai) (1.9.0)\n",
      "Requirement already satisfied: httpx<1,>=0.23.0 in c:\\users\\dell\\appdata\\local\\programs\\python\\python311\\lib\\site-packages (from openai) (0.27.0)\n",
      "Requirement already satisfied: pydantic<3,>=1.9.0 in c:\\users\\dell\\appdata\\local\\programs\\python\\python311\\lib\\site-packages (from openai) (2.8.0)\n",
      "Requirement already satisfied: sniffio in c:\\users\\dell\\appdata\\local\\programs\\python\\python311\\lib\\site-packages (from openai) (1.3.1)\n",
      "Requirement already satisfied: tqdm>4 in c:\\users\\dell\\appdata\\local\\programs\\python\\python311\\lib\\site-packages (from openai) (4.66.4)\n",
      "Requirement already satisfied: typing-extensions<5,>=4.7 in c:\\users\\dell\\appdata\\local\\programs\\python\\python311\\lib\\site-packages (from openai) (4.12.2)\n",
      "Requirement already satisfied: idna>=2.8 in c:\\users\\dell\\appdata\\local\\programs\\python\\python311\\lib\\site-packages (from anyio<5,>=3.5.0->openai) (3.7)\n",
      "Requirement already satisfied: certifi in c:\\users\\dell\\appdata\\local\\programs\\python\\python311\\lib\\site-packages (from httpx<1,>=0.23.0->openai) (2024.6.2)\n",
      "Requirement already satisfied: httpcore==1.* in c:\\users\\dell\\appdata\\local\\programs\\python\\python311\\lib\\site-packages (from httpx<1,>=0.23.0->openai) (1.0.5)\n",
      "Requirement already satisfied: h11<0.15,>=0.13 in c:\\users\\dell\\appdata\\local\\programs\\python\\python311\\lib\\site-packages (from httpcore==1.*->httpx<1,>=0.23.0->openai) (0.14.0)\n",
      "Requirement already satisfied: annotated-types>=0.4.0 in c:\\users\\dell\\appdata\\local\\programs\\python\\python311\\lib\\site-packages (from pydantic<3,>=1.9.0->openai) (0.7.0)\n",
      "Requirement already satisfied: pydantic-core==2.20.0 in c:\\users\\dell\\appdata\\local\\programs\\python\\python311\\lib\\site-packages (from pydantic<3,>=1.9.0->openai) (2.20.0)\n",
      "Requirement already satisfied: colorama in c:\\users\\dell\\appdata\\local\\programs\\python\\python311\\lib\\site-packages (from tqdm>4->openai) (0.4.6)\n"
     ]
    },
    {
     "name": "stderr",
     "output_type": "stream",
     "text": [
      "\n",
      "[notice] A new release of pip is available: 24.1.1 -> 24.2\n",
      "[notice] To update, run: python.exe -m pip install --upgrade pip\n"
     ]
    }
   ],
   "source": [
    "!pip install openai"
   ]
  },
  {
   "cell_type": "markdown",
   "id": "c93cd4b9-d285-4934-b04b-a3edbc5ea2c4",
   "metadata": {},
   "source": [
    "# Open AI"
   ]
  },
  {
   "cell_type": "code",
   "execution_count": 76,
   "id": "ff15d511-d376-4894-bfbc-b95ed86076a3",
   "metadata": {},
   "outputs": [],
   "source": [
    "from langchain.llms import OpenAI"
   ]
  },
  {
   "cell_type": "code",
   "execution_count": 77,
   "id": "be9beef4-2772-4614-b8d5-c127a1e31ed4",
   "metadata": {},
   "outputs": [],
   "source": [
    "api='skkjdkjdhfjdhjfdjfhjdhfjdhfjhdjfhjd'"
   ]
  },
  {
   "cell_type": "code",
   "execution_count": 78,
   "id": "cfe79f1d-08f2-45ba-ba76-a342d0ad0ef4",
   "metadata": {},
   "outputs": [],
   "source": [
    "llm=OpenAI(openai_api_key=api,max_tokens=156)"
   ]
  },
  {
   "cell_type": "code",
   "execution_count": 79,
   "id": "8ea5d4c5-62f8-4cbf-a908-9eb234bad7ca",
   "metadata": {},
   "outputs": [],
   "source": [
    "question='what is the capital of india'\n",
    "output=llm.predict(question)"
   ]
  },
  {
   "cell_type": "code",
   "execution_count": 80,
   "id": "49fbf1f3-fdde-4df9-949a-4dd33454f7c6",
   "metadata": {},
   "outputs": [
    {
     "name": "stdout",
     "output_type": "stream",
     "text": [
      "\n",
      "\n",
      "The capital of India is New Delhi.\n"
     ]
    }
   ],
   "source": [
    "print(output)"
   ]
  },
  {
   "cell_type": "markdown",
   "id": "0cad4e8c-31ea-4939-8682-3a97272f7ff8",
   "metadata": {},
   "source": [
    "# Hugging face"
   ]
  },
  {
   "cell_type": "code",
   "execution_count": 81,
   "id": "c54244fc-7a02-41b3-94d6-0f8d7b30e9b1",
   "metadata": {},
   "outputs": [],
   "source": [
    "from langchain import HuggingFaceHub"
   ]
  },
  {
   "cell_type": "code",
   "execution_count": 88,
   "id": "71f7f588-282f-4b76-b21f-eb31afd3486a",
   "metadata": {},
   "outputs": [],
   "source": [
    "llm_hugging_face=HuggingFaceHub(huggingfacehub_api_token='dhjfksdhfkshksdkfksdkdkjfhjdhfj',repo_id='google/flan-t5-xxl',\n",
    "                                                       model_kwargs= ({'max_length':64}))"
   ]
  },
  {
   "cell_type": "code",
   "execution_count": 91,
   "id": "bbdced93-923e-4bd1-a9d7-95bf35e764e4",
   "metadata": {},
   "outputs": [],
   "source": [
    "text='when ww1 started'"
   ]
  },
  {
   "cell_type": "code",
   "execution_count": 92,
   "id": "51b2f867-6ef8-4c23-94a5-827465ddf0e4",
   "metadata": {},
   "outputs": [],
   "source": [
    "output=llm_hugging_face.predict(text)"
   ]
  },
  {
   "cell_type": "code",
   "execution_count": 93,
   "id": "63bd24e0-afec-4cf4-a685-368639ed9a70",
   "metadata": {},
   "outputs": [],
   "source": [
    "print(output)"
   ]
  },
  {
   "cell_type": "markdown",
   "id": "9d3308d8-24b0-4fba-8a40-94105842a84f",
   "metadata": {},
   "source": [
    "# Prompt Templates"
   ]
  },
  {
   "cell_type": "code",
   "execution_count": 94,
   "id": "eda077d9-a619-4c5f-ab1e-c735d28b9a9b",
   "metadata": {},
   "outputs": [],
   "source": [
    "from langchain.prompts import PromptTemplate"
   ]
  },
  {
   "cell_type": "code",
   "execution_count": 95,
   "id": "2069a476-f7bc-45ee-8269-d56a38fcc292",
   "metadata": {},
   "outputs": [
    {
     "data": {
      "text/plain": [
       "'tell me the capital of Pakistan'"
      ]
     },
     "execution_count": 95,
     "metadata": {},
     "output_type": "execute_result"
    }
   ],
   "source": [
    "prompt_template=PromptTemplate(input_variable=['country'],\n",
    "                              template=\"tell me the capital of {country}\")\n",
    "prompt_template.format(country='Pakistan')"
   ]
  },
  {
   "cell_type": "code",
   "execution_count": 104,
   "id": "13b1c61e-98db-49b3-8acd-fce673a392b1",
   "metadata": {},
   "outputs": [],
   "source": [
    "from langchain.chains import LLMChain"
   ]
  },
  {
   "cell_type": "code",
   "execution_count": 97,
   "id": "ed3069b6-99a8-4cc7-a727-24876c58786c",
   "metadata": {},
   "outputs": [],
   "source": [
    "chain=LLMChain(llm=llm,prompt=prompt_template)"
   ]
  },
  {
   "cell_type": "code",
   "execution_count": 98,
   "id": "e30cf1b1-3fcf-48ba-a184-94f07200c614",
   "metadata": {},
   "outputs": [
    {
     "name": "stdout",
     "output_type": "stream",
     "text": [
      "{'country': 'Pakistan', 'text': '\\n\\nThe capital of Pakistan is Islamabad.'}\n"
     ]
    }
   ],
   "source": [
    "print(chain.invoke('Pakistan'))"
   ]
  },
  {
   "cell_type": "markdown",
   "id": "2db37a76-1349-42fa-9877-a40a8009d639",
   "metadata": {},
   "source": [
    "# Multiple chains"
   ]
  },
  {
   "cell_type": "code",
   "execution_count": 107,
   "id": "0004a62c-8547-4fb3-8bd6-e5b39ec4e69e",
   "metadata": {},
   "outputs": [],
   "source": [
    "from langchain.chains import SimpleSequentialChain"
   ]
  },
  {
   "cell_type": "code",
   "execution_count": 108,
   "id": "d7b8c4c5-3b4a-4c1a-882d-a67213bc3864",
   "metadata": {},
   "outputs": [],
   "source": [
    "capital_prompt=PromptTemplate(input_variable=['country'],\n",
    "                             template='tell me the capital of {country}')\n",
    "capital_chain=LLMChain(llm=llm,prompt=capital_prompt)\n"
   ]
  },
  {
   "cell_type": "code",
   "execution_count": 109,
   "id": "6e1b1615-9843-4729-9a78-4a95a1aa3dd0",
   "metadata": {},
   "outputs": [],
   "source": [
    "famous_prompt=PromptTemplate(input_variable=['capital'],\n",
    "                           template='suggest me some places to visit in {capital}')\n",
    "famous_chain=LLMChain(llm=llm,prompt=famous_prompt)"
   ]
  },
  {
   "cell_type": "code",
   "execution_count": 110,
   "id": "8e59e569-fa35-4df1-9065-e179363d9ac9",
   "metadata": {},
   "outputs": [],
   "source": [
    "chain=SimpleSequentialChain(chains=[capital_chain,famous_chain])"
   ]
  },
  {
   "cell_type": "code",
   "execution_count": 111,
   "id": "51291a23-8122-483a-834b-c454b305dca5",
   "metadata": {},
   "outputs": [
    {
     "data": {
      "text/plain": [
       "{'input': 'Pakistan',\n",
       " 'output': '\\n\\n1. Faisal Mosque\\n2. Margalla Hills\\n3. Pakistan Monument Museum\\n4. Lok Virsa Museum\\n5. Rawal Lake\\n6. Daman-e-Koh\\n7. Centaurus Mall\\n8. Islamabad Zoo\\n9. Saidpur Village\\n10. Shakarparian Park\\n11. National Art Gallery\\n12. Golra Sharif Railway Museum\\n13. Islamabad Stock Exchange\\n14. Pir Sohawa\\n15. National Library of Pakistan\\n16. The Monal Restaurant\\n17. Islamabad Club\\n18. Rose & Jasmine Garden\\n19. Fatima Jinnah Park\\n20. Lake View Park.'}"
      ]
     },
     "execution_count": 111,
     "metadata": {},
     "output_type": "execute_result"
    }
   ],
   "source": [
    "chain.invoke('Pakistan')"
   ]
  },
  {
   "cell_type": "markdown",
   "id": "0b06264a-7329-4f04-bd82-8687f72cdc9e",
   "metadata": {},
   "source": [
    "# Sequential chain"
   ]
  },
  {
   "cell_type": "code",
   "execution_count": 123,
   "id": "769f67b6-45bb-4416-bea1-51af13807e30",
   "metadata": {},
   "outputs": [],
   "source": [
    "capital_template=PromptTemplate(input_variables=['country'],\n",
    "template=\"Please tell me the capital of the {country}\")\n",
    "\n",
    "capital_chain=LLMChain(llm=llm,prompt=capital_template,output_key=\"capital\")"
   ]
  },
  {
   "cell_type": "code",
   "execution_count": 124,
   "id": "61b8179b-2eb3-4327-9f89-8fdc611bd68e",
   "metadata": {},
   "outputs": [],
   "source": [
    "famous_template=PromptTemplate(input_variables=['capital'],\n",
    "template=\"Suggest me some amazing places to visit in {capital}\")\n",
    "\n",
    "famous_chain=LLMChain(llm=llm,prompt=famous_template,output_key=\"places\")"
   ]
  },
  {
   "cell_type": "code",
   "execution_count": 125,
   "id": "3ee1a9cb-3e34-4dee-904b-c73b912d3d73",
   "metadata": {},
   "outputs": [],
   "source": [
    "from langchain.chains import SequentialChain"
   ]
  },
  {
   "cell_type": "code",
   "execution_count": 126,
   "id": "bc60a0d2-e209-4ac1-aa52-5472ebf8df39",
   "metadata": {},
   "outputs": [],
   "source": [
    "chain=SequentialChain(chains=[capital_chain,famous_chain],\n",
    "input_variables=['country'],\n",
    "output_variables=['capital',\"places\"])"
   ]
  },
  {
   "cell_type": "code",
   "execution_count": 127,
   "id": "e57bf284-0f25-4bbb-94c5-2ee01efeff0e",
   "metadata": {},
   "outputs": [
    {
     "data": {
      "text/plain": [
       "{'country': 'Pakistan',\n",
       " 'capital': '\\n\\nThe capital of Pakistan is Islamabad.',\n",
       " 'places': \" Some amazing places to visit in Islamabad are:\\n\\n1. Faisal Mosque: This iconic mosque is the largest mosque in Pakistan and a symbol of the country's modern architecture. It is a must-visit for its stunning design and peaceful atmosphere.\\n\\n2. Margalla Hills National Park: Located on the outskirts of Islamabad, this national park offers breathtaking views of the city and is a popular spot for hiking, picnics, and birdwatching.\\n\\n3. Lok Virsa Museum: This museum showcases the rich culture and heritage of Pakistan through its fascinating collection of art, crafts, and artifacts. It also hosts cultural events and festivals throughout the year.\\n\\n4. Rawal Lake: This man-made lake is a popular spot for boating, fishing, and picnicking. It also\"}"
      ]
     },
     "execution_count": 127,
     "metadata": {},
     "output_type": "execute_result"
    }
   ],
   "source": [
    "chain({'country':\"Pakistan\"})"
   ]
  },
  {
   "cell_type": "markdown",
   "id": "d66c016a-be89-44f6-9f2d-f853a599c1e4",
   "metadata": {},
   "source": [
    "# Chat models + output parsers"
   ]
  },
  {
   "cell_type": "code",
   "execution_count": 154,
   "id": "044d4d96-08fe-4d32-a712-8630ba598fcb",
   "metadata": {},
   "outputs": [],
   "source": [
    "from langchain.schema import BaseOutputParser"
   ]
  },
  {
   "cell_type": "code",
   "execution_count": 156,
   "id": "2c6212fc-0593-44cd-967b-c73991ca53a0",
   "metadata": {},
   "outputs": [],
   "source": [
    "class Commaseperatedoutput(BaseOutputParser):\n",
    "    def parse(self,text:str):\n",
    "        return text.strip().split(\",\")"
   ]
  },
  {
   "cell_type": "code",
   "execution_count": 157,
   "id": "f97214da-4910-4e3d-a54f-98dd0d01c5e2",
   "metadata": {},
   "outputs": [],
   "source": [
    "from langchain.chat_models import ChatOpenAI\n",
    "from langchain_core.prompts import ChatPromptTemplate"
   ]
  },
  {
   "cell_type": "code",
   "execution_count": 158,
   "id": "07205ede-5ef5-43c4-8723-1e465d0e54ad",
   "metadata": {},
   "outputs": [],
   "source": [
    "chat_llm=ChatOpenAI(api_key=api,temperature=0.4)"
   ]
  },
  {
   "cell_type": "code",
   "execution_count": 146,
   "id": "6d0612b5-9aaa-44cf-9477-4435d9bc9dcb",
   "metadata": {},
   "outputs": [],
   "source": [
    "template='Generate 5 synonyms for given word of English'\n",
    "human_template='{text}'"
   ]
  },
  {
   "cell_type": "code",
   "execution_count": 159,
   "id": "7dd812dc-5003-42be-9013-b23c707714a9",
   "metadata": {},
   "outputs": [],
   "source": [
    "prompt=ChatPromptTemplate.from_messages([\n",
    " ('system',template),\n",
    "  ('human',human_template) \n",
    "])"
   ]
  },
  {
   "cell_type": "code",
   "execution_count": 166,
   "id": "009a7f69-7e1f-4e1c-ab75-204d5ad7b3e5",
   "metadata": {},
   "outputs": [],
   "source": [
    "chain = prompt | chat_llm | Commaseperatedoutput()"
   ]
  },
  {
   "cell_type": "code",
   "execution_count": 167,
   "id": "d4f6e642-e903-44c8-9d60-7f999cd90cef",
   "metadata": {},
   "outputs": [
    {
     "data": {
      "text/plain": [
       "['1. Difficult\\n2. Challenging\\n3. Tough\\n4. Strenuous\\n5. Arduous']"
      ]
     },
     "execution_count": 167,
     "metadata": {},
     "output_type": "execute_result"
    }
   ],
   "source": [
    "chain.invoke({'text':'hard'})"
   ]
  }
 ],
 "metadata": {
  "kernelspec": {
   "display_name": "Python 3 (ipykernel)",
   "language": "python",
   "name": "python3"
  },
  "language_info": {
   "codemirror_mode": {
    "name": "ipython",
    "version": 3
   },
   "file_extension": ".py",
   "mimetype": "text/x-python",
   "name": "python",
   "nbconvert_exporter": "python",
   "pygments_lexer": "ipython3",
   "version": "3.11.0"
  }
 },
 "nbformat": 4,
 "nbformat_minor": 5
}
